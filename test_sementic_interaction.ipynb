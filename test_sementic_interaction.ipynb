{
 "cells": [
  {
   "cell_type": "code",
   "execution_count": 1,
   "metadata": {},
   "outputs": [],
   "source": [
    "import numpy as np\n",
    "import pandas as pd\n",
    "import pptk"
   ]
  },
  {
   "cell_type": "code",
   "execution_count": 2,
   "metadata": {},
   "outputs": [],
   "source": [
    "def read_points(f):\n",
    "    # reads Semantic3D .txt file f into a pandas dataframe\n",
    "    col_names = ['x', 'y', 'z', 'i', 'r', 'g', 'b']\n",
    "    col_dtype = {'x': np.float32, 'y': np.float32, 'z': np.float32, 'i': np.int32,\n",
    "                  'r': np.uint8, 'g': np.uint8, 'b': np.uint8}\n",
    "    return pd.read_csv(f, names=col_names, dtype=col_dtype, delim_whitespace=True)"
   ]
  },
  {
   "cell_type": "code",
   "execution_count": 3,
   "metadata": {},
   "outputs": [],
   "source": [
    "def read_labels(f):\n",
    "    # reads Semantic3D .labels file f into a pandas dataframe\n",
    "    return pd.read_csv(f, header=None)[0].values"
   ]
  },
  {
   "cell_type": "code",
   "execution_count": 4,
   "metadata": {},
   "outputs": [
    {
     "data": {
      "text/plain": [
       "(29697591, 7)"
      ]
     },
     "execution_count": 4,
     "metadata": {},
     "output_type": "execute_result"
    }
   ],
   "source": [
    "points = read_points('/home/mohhit/ubco_pcl_anno/Sementic 3d dataset/bildstein_station1_xyz_intensity_rgb.txt')\n",
    "points.shape"
   ]
  },
  {
   "cell_type": "code",
   "execution_count": 5,
   "metadata": {},
   "outputs": [
    {
     "data": {
      "text/plain": [
       "29697591"
      ]
     },
     "execution_count": 5,
     "metadata": {},
     "output_type": "execute_result"
    }
   ],
   "source": [
    "labels = read_labels('Sementic 3d dataset/sem8_labels_training/bildstein_station1_xyz_intensity_rgb.labels')\n",
    "labels.size"
   ]
  },
  {
   "cell_type": "code",
   "execution_count": 6,
   "metadata": {},
   "outputs": [
    {
     "name": "stdout",
     "output_type": "stream",
     "text": [
      "viewer started\n"
     ]
    }
   ],
   "source": [
    "v = pptk.viewer(points[['x','y','z']])\n",
    "print('viewer started')\n",
    "v.attributes(points[['r','g','b']]/255, points['i'])\n",
    "v.set(point_size=0.001)"
   ]
  },
  {
   "cell_type": "code",
   "execution_count": 7,
   "metadata": {},
   "outputs": [],
   "source": [
    "mask = (labels != 0)\n",
    "P = points[mask]\n",
    "L = labels[mask]"
   ]
  },
  {
   "cell_type": "code",
   "execution_count": 8,
   "metadata": {},
   "outputs": [],
   "source": [
    "v = pptk.viewer(P[['x','y','z']])\n",
    "v.attributes(P[['r', 'g', 'b']]/255, P['i'], L)\n",
    "v.set(point_size = 0.001)"
   ]
  },
  {
   "cell_type": "code",
   "execution_count": 12,
   "metadata": {},
   "outputs": [
    {
     "data": {
      "text/plain": [
       "numpy.ndarray"
      ]
     },
     "execution_count": 12,
     "metadata": {},
     "output_type": "execute_result"
    }
   ],
   "source": [
    "indices = v.get('selected')\n",
    "type(indices)\n"
   ]
  },
  {
   "cell_type": "code",
   "execution_count": 16,
   "metadata": {},
   "outputs": [
    {
     "data": {
      "text/plain": [
       "9476296"
      ]
     },
     "execution_count": 16,
     "metadata": {},
     "output_type": "execute_result"
    }
   ],
   "source": [
    "L.size"
   ]
  },
  {
   "cell_type": "code",
   "execution_count": 18,
   "metadata": {},
   "outputs": [
    {
     "data": {
      "text/plain": [
       "9476296"
      ]
     },
     "execution_count": 18,
     "metadata": {},
     "output_type": "execute_result"
    }
   ],
   "source": [
    "num_points = (P.shape)[0]\n",
    "num_points"
   ]
  },
  {
   "cell_type": "code",
   "execution_count": 13,
   "metadata": {},
   "outputs": [],
   "source": [
    "indices = v.get('selected')\n",
    "L[indices] = [3]\n"
   ]
  },
  {
   "cell_type": "code",
   "execution_count": 14,
   "metadata": {},
   "outputs": [],
   "source": [
    "v.attributes(P[['r', 'g', 'b']]/255, P['i'], L)"
   ]
  }
 ],
 "metadata": {
  "kernelspec": {
   "display_name": "pclanno",
   "language": "python",
   "name": "python3"
  },
  "language_info": {
   "codemirror_mode": {
    "name": "ipython",
    "version": 3
   },
   "file_extension": ".py",
   "mimetype": "text/x-python",
   "name": "python",
   "nbconvert_exporter": "python",
   "pygments_lexer": "ipython3",
   "version": "3.7.16"
  },
  "orig_nbformat": 4
 },
 "nbformat": 4,
 "nbformat_minor": 2
}
